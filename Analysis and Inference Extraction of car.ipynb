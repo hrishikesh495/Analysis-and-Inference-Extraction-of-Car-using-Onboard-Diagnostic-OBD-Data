{
 "cells": [
  {
   "cell_type": "markdown",
   "metadata": {
    "colab_type": "text",
    "id": "swME3kw9iWub"
   },
   "source": [
    "# Created By:\n"
   ]
  },
  {
   "cell_type": "markdown",
   "metadata": {
    "colab_type": "text",
    "id": "Tfp8jEtzidkQ"
   },
   "source": [
    "**Name:** Hrishikesh Shinde\n",
    "\n",
    "**Employee ID:** 214966\n",
    "\n",
    "**Email ID:** Hrishikesh.Shinde@kpit.com"
   ]
  },
  {
   "cell_type": "markdown",
   "metadata": {
    "colab_type": "text",
    "id": "Ey2c8kXmj5E4"
   },
   "source": [
    "# Importing Libraries\n"
   ]
  },
  {
   "cell_type": "markdown",
   "metadata": {
    "colab_type": "text",
    "id": "EDwHWOZokKAu"
   },
   "source": [
    "\n",
    "**Folium**: To plot Points on Map\n",
    "\n",
    "*Installation: pip install folium*\n",
    "\n",
    "---\n",
    "\n",
    "**Pandas**: To import dataset\n",
    "\n",
    "*Installation: pip install pandas*\n",
    "\n",
    "---\n",
    "\n",
    "**Matplotlib**: To plot Graphs\n",
    "\n",
    "*Installation: python -m pip install -U matplotlib*\n",
    "\n",
    "---\n",
    "\n",
    "**MPL_toolkits**: To plot 3 Dimensional Plot\n",
    "\n",
    "*Installation: pip install --upgrade matplotlib*\n",
    "\n",
    "---\n",
    "\n",
    "**Sys:** Used for exit\n",
    "\n",
    "*Installation: Pre-Installed*"
   ]
  },
  {
   "cell_type": "code",
   "execution_count": 1,
   "metadata": {
    "colab": {},
    "colab_type": "code",
    "executionInfo": {
     "elapsed": 1272,
     "status": "ok",
     "timestamp": 1596612226950,
     "user": {
      "displayName": "Hrishikesh Shinde",
      "photoUrl": "https://lh3.googleusercontent.com/a-/AOh14GgZWQPkf720YrSjwZ_b2xa54kIpbFYGj0dlrncl3w=s64",
      "userId": "14705072043501705532"
     },
     "user_tz": -330
    },
    "id": "xY7JHwMhEARD"
   },
   "outputs": [],
   "source": [
    "import matplotlib.pyplot as plt\n",
    "import pandas as pd\n",
    "import folium\n",
    "from mpl_toolkits.mplot3d import Axes3D\n",
    "import sys"
   ]
  },
  {
   "cell_type": "markdown",
   "metadata": {
    "colab_type": "text",
    "id": "MEgxNT1Rj-_H"
   },
   "source": [
    "# Importing Dataset"
   ]
  },
  {
   "cell_type": "markdown",
   "metadata": {
    "colab_type": "text",
    "id": "75c-dIyLkCb7"
   },
   "source": [
    "OBD Dataset name should be data.xlsx\n"
   ]
  },
  {
   "cell_type": "code",
   "execution_count": 2,
   "metadata": {
    "colab": {},
    "colab_type": "code",
    "executionInfo": {
     "elapsed": 2520,
     "status": "ok",
     "timestamp": 1596612228214,
     "user": {
      "displayName": "Hrishikesh Shinde",
      "photoUrl": "https://lh3.googleusercontent.com/a-/AOh14GgZWQPkf720YrSjwZ_b2xa54kIpbFYGj0dlrncl3w=s64",
      "userId": "14705072043501705532"
     },
     "user_tz": -330
    },
    "id": "XOpBfTrNENJB"
   },
   "outputs": [],
   "source": [
    "data = pd.read_excel('data.xlsx')"
   ]
  },
  {
   "cell_type": "markdown",
   "metadata": {
    "colab_type": "text",
    "id": "jQO1SOV9lFp2"
   },
   "source": [
    "# Function To Plot Points On Map and Displaying Map"
   ]
  },
  {
   "cell_type": "markdown",
   "metadata": {
    "colab_type": "text",
    "id": "iCjUTVqwlRvv"
   },
   "source": [
    "Here I have used Folium Library which helps us to plot points and route on map.\n",
    "\n",
    "Also, different markers are used to display different inferences. \n",
    "\n",
    "**Click on the marker on map to view inference.**"
   ]
  },
  {
   "cell_type": "code",
   "execution_count": 3,
   "metadata": {
    "colab": {},
    "colab_type": "code",
    "executionInfo": {
     "elapsed": 2514,
     "status": "ok",
     "timestamp": 1596612228217,
     "user": {
      "displayName": "Hrishikesh Shinde",
      "photoUrl": "https://lh3.googleusercontent.com/a-/AOh14GgZWQPkf720YrSjwZ_b2xa54kIpbFYGj0dlrncl3w=s64",
      "userId": "14705072043501705532"
     },
     "user_tz": -330
    },
    "id": "CQXW_9QdcpXC"
   },
   "outputs": [],
   "source": [
    "def show_map(latitude,longitude,mode):\n",
    "  global data\n",
    "\n",
    "  df = pd.DataFrame(list(zip(latitude, longitude)), columns =['Latitude', 'Longitude']) \n",
    "  folium.PolyLine([[17.34112692,78.53707726],[17.343478,78.537446],[17.344434,78.532063],[17.350722, 78.531215],[17.354496,78.532169],[17.359157,78.532971],[17.361981,78.533717],[17.364837, 78.534768],[17.366834, 78.535573],[17.368124, 78.535777],[17.368616, 78.519888],[17.370097, 78.514753],[17.374667, 78.514753],[17.376380, 78.514597],[17.381937, 78.518284],[17.386574, 78.516584],[17.392033, 78.516217],[17.391306, 78.510949],[17.393834, 78.510797],[17.395836, 78.511066],[17.397461, 78.512021],[17.39771674,78.51151644]]).add_to(map1)\n",
    "  folium.RegularPolygonMarker(location=[17.34112692, 78.53707726],popup = 'Start Point',color ='blue',radius=10,fill_color='yellow',number_of_sides= 5).add_to(map1)\n",
    "  folium.RegularPolygonMarker(location=[17.39771674,78.51151644],popup = 'End Point',color ='blue',radius=10,fill_color='green',number_of_sides= 5).add_to(map1)\n",
    "\n",
    "  #different marker to show different inferences\n",
    "  if mode == 1:\n",
    "    df.apply(lambda row:folium.CircleMarker(location=[row[\"Latitude\"], row[\"Longitude\"]],popup= 'Pothole').add_to(map1), axis=1)\n",
    "  elif mode==2:\n",
    "    df.apply(lambda row:folium.Marker(location  =[row[\"Latitude\"], row[\"Longitude\"]],popup = 'Engine Over Heated Point',icon=folium.Icon(color='red', icon ='info-sign')).add_to(map1), axis=1)\n",
    "  elif mode==3:\n",
    "    df.apply(lambda row:folium.RegularPolygonMarker(location=[row[\"Latitude\"], row[\"Longitude\"]],popup = 'High Fuel Consumed Point \\n(Put Next Gear or Go Slow)').add_to(map1), axis=1)\n",
    "  elif mode ==4:\n",
    "    df.apply(lambda row:folium.Marker(location=[row[\"Latitude\"], row[\"Longitude\"]],popup = 'Rash Driving Point',icon =folium.Icon(color='black', icon='car', icon_color=\"red\", prefix='fa')).add_to(map1), axis=1)\n",
    "  elif mode == 5:\n",
    "    df.apply(lambda row:folium.Marker(location=[row[\"Latitude\"], row[\"Longitude\"]],popup = 'Hard Breaking Point',icon =folium.Icon(color='cadetblue', icon='exclamation', icon_color=\"red\", prefix='fa')).add_to(map1), axis=1)\n",
    "  display(map1)"
   ]
  },
  {
   "cell_type": "code",
   "execution_count": 4,
   "metadata": {
    "colab": {},
    "colab_type": "code",
    "executionInfo": {
     "elapsed": 2507,
     "status": "ok",
     "timestamp": 1596612228219,
     "user": {
      "displayName": "Hrishikesh Shinde",
      "photoUrl": "https://lh3.googleusercontent.com/a-/AOh14GgZWQPkf720YrSjwZ_b2xa54kIpbFYGj0dlrncl3w=s64",
      "userId": "14705072043501705532"
     },
     "user_tz": -330
    },
    "id": "ujv1w6hEWD06"
   },
   "outputs": [],
   "source": [
    "def map_display_all():\n",
    "  next_gear()\n",
    "  pothole_detection()\n",
    "  hard_breaking()\n",
    "  rash_driving()\n",
    "  Engine_Overheat_Detection()"
   ]
  },
  {
   "cell_type": "markdown",
   "metadata": {
    "colab_type": "text",
    "id": "FNh-PVqSlt7u"
   },
   "source": [
    "# 1. Engine Overheat Detection"
   ]
  },
  {
   "cell_type": "markdown",
   "metadata": {
    "colab_type": "text",
    "id": "4kG7tLcKl71r"
   },
   "source": [
    "Plot of time vs coolent temperature to check the over heating of engine\n",
    "\n",
    "OverHeating Threshold value for coolent temprature is set to 90°C\n",
    "\n",
    "**OverHeating Conditions:**\n",
    "  \n",
    "1) Coolent Temperature > above 90°C"
   ]
  },
  {
   "cell_type": "code",
   "execution_count": 5,
   "metadata": {
    "colab": {},
    "colab_type": "code",
    "executionInfo": {
     "elapsed": 2499,
     "status": "ok",
     "timestamp": 1596612228221,
     "user": {
      "displayName": "Hrishikesh Shinde",
      "photoUrl": "https://lh3.googleusercontent.com/a-/AOh14GgZWQPkf720YrSjwZ_b2xa54kIpbFYGj0dlrncl3w=s64",
      "userId": "14705072043501705532"
     },
     "user_tz": -330
    },
    "id": "PiKPKDG5EatT"
   },
   "outputs": [],
   "source": [
    "over_heat_latitude = []\n",
    "over_heat_longitude = []\n",
    "over_heat_time = []\n",
    "over_heat_temp = []\n",
    "\n",
    "def Engine_Overheat_Detection():\n",
    "  global data\n",
    "  global over_heat_latitude\n",
    "  global over_heat_longitude\n",
    "  global over_heat_time\n",
    "  global over_heat_temp\n",
    "  time = data['Trip Time(Since journey start)(s)']\n",
    "  engine_temp = data['Engine Coolant Temperature(Â°C)']\n",
    "  label = 'Over Heated Engine Points'\n",
    "  over_heat_threshold_x = [[0],[data['Trip Time(Since journey start)(s)'][data['Trip Time(Since journey start)(s)'].count()-1]]]\n",
    "  over_heat_threshold_y = [[90],[90]]\n",
    "  counter = 0\n",
    "  plt.plot(time,engine_temp,linewidth =.5)\n",
    "  plt.plot(over_heat_threshold_x,over_heat_threshold_y,label = 'Engine over heat Threshold')\n",
    "\n",
    "  print('----------------- Engine Over Heated at -----------------\\n')\n",
    "  print(' DEVICE TIME \\t\\t LATITUDE \\t LONGITUDE \\t TEMPERATURE')\n",
    "  for n in range(data['Trip Time(Since journey start)(s)'].count()):\n",
    "    if (data['Engine Coolant Temperature(Â°C)'][n]>90):\n",
    "      over_heat_latitude.append(data[' Latitude'][n])\n",
    "      over_heat_longitude.append(data[' Longitude'][n])\n",
    "      over_heat_time.append(data['Trip Time(Since journey start)(s)'][n])\n",
    "      over_heat_temp.append(data['Engine Coolant Temperature(Â°C)'][n])\n",
    "      counter +=1\n",
    "      print(f\"{data[' Device Time'][n]} \\t {data[' Latitude'][n]} \\t {data[' Longitude'][n]} \\t {data['Engine Coolant Temperature(Â°C)'][n]}\")\n",
    "  print(f'\\n--------------------- Over Heated {counter} times -------------------------------\\n')\n",
    "  plt.scatter(over_heat_time,over_heat_temp,label = label,color='red',marker='.')\n",
    "  label = \"_nolegend_\"\n",
    "  plt.legend()\n",
    "  plt.xlabel('Trip Time(Since journey start)(s)')\n",
    "  plt.ylabel('Engine Coolant Temperature(Â°C)')\n",
    "  plt.show()\n",
    "  print('\\n\\n')\n",
    "  Engine_Overheat_Detection_zoom()"
   ]
  },
  {
   "cell_type": "markdown",
   "metadata": {
    "colab_type": "text",
    "id": "i6QG3Hb6mG2E"
   },
   "source": [
    "Zoom View to get a clear picture of overheated points"
   ]
  },
  {
   "cell_type": "code",
   "execution_count": 6,
   "metadata": {
    "colab": {},
    "colab_type": "code",
    "executionInfo": {
     "elapsed": 2491,
     "status": "ok",
     "timestamp": 1596612228223,
     "user": {
      "displayName": "Hrishikesh Shinde",
      "photoUrl": "https://lh3.googleusercontent.com/a-/AOh14GgZWQPkf720YrSjwZ_b2xa54kIpbFYGj0dlrncl3w=s64",
      "userId": "14705072043501705532"
     },
     "user_tz": -330
    },
    "id": "Y0CmXcDGFZcg"
   },
   "outputs": [],
   "source": [
    "def Engine_Overheat_Detection_zoom():\n",
    "  global data\n",
    "  global over_heat_latitude\n",
    "  global over_heat_longitude\n",
    "  global over_heat_time\n",
    "  global over_heat_temp\n",
    "\n",
    "  time = data['Trip Time(Since journey start)(s)'][705:750]\n",
    "  engine_temp = data['Engine Coolant Temperature(Â°C)'][705:750]\n",
    "  over_heat_threshold_x = [[690],[740]]\n",
    "  over_heat_threshold_y = [[90],[90]]\n",
    "  label = 'Over Heated Engine Points'\n",
    "\n",
    "  plt.plot(time,engine_temp,linewidth =2)\n",
    "  print('\\n\\nMore Clear View of Over Heated Engine Points')\n",
    "  plt.plot(over_heat_threshold_x,over_heat_threshold_y,label = 'Engine over heat Threshold')\n",
    "  plt.scatter(over_heat_time,over_heat_temp,label = label,color='red',marker='.',linewidths=2)\n",
    "  label = \"_nolegend_\"  \n",
    "  plt.legend()\n",
    "  plt.xlabel('Trip Time(In between Journey)(s)')\n",
    "  plt.ylabel('Engine Coolant Temperature(Â°C)')\n",
    "  plt.show()\n",
    "  print('\\n\\n')\n",
    "  \n",
    "  show_map(over_heat_latitude,over_heat_longitude,2)"
   ]
  },
  {
   "cell_type": "markdown",
   "metadata": {
    "colab_type": "text",
    "id": "t0J-GFKomThe"
   },
   "source": [
    "# 2. Rash Driving Detection"
   ]
  },
  {
   "cell_type": "markdown",
   "metadata": {
    "colab_type": "text",
    "id": "4ke2Oj7FnFnR"
   },
   "source": [
    "Plotted points when driver was rash driving\n",
    "\n",
    "Used Pedal Position sensor threshold value = 58\n",
    "\n",
    "Also checked weather the car is in forward motion or not, using accelerometer X-axis values\n",
    "\n",
    "---\n",
    "\n",
    "\n",
    "\n",
    "**Rash Driving Conditions**: \n",
    "\n",
    "When Car is moving accelerometer's\n",
    "\n",
    "  1) Positive values indicate an increase in velocity.\n",
    "\n",
    "  2) Negative values indicate an decrease in velocity.\n",
    "    \n",
    "  3) Zero values indicate constant velocity \n",
    "\n",
    "Here we considered the positive value and zero value to confirm the vehicle is motion or not.\n",
    "\n",
    "Then we detected the value if pedal position. \n",
    "\n",
    "Accelerator PedalPosition D(%)>58\n",
    "\n",
    "Engine RPM > 800\n",
    "\n",
    "\n",
    "If both condition match rash driving is detected\n"
   ]
  },
  {
   "cell_type": "code",
   "execution_count": 7,
   "metadata": {
    "colab": {},
    "colab_type": "code",
    "executionInfo": {
     "elapsed": 3434,
     "status": "ok",
     "timestamp": 1596612229174,
     "user": {
      "displayName": "Hrishikesh Shinde",
      "photoUrl": "https://lh3.googleusercontent.com/a-/AOh14GgZWQPkf720YrSjwZ_b2xa54kIpbFYGj0dlrncl3w=s64",
      "userId": "14705072043501705532"
     },
     "user_tz": -330
    },
    "id": "oiEjBhDMT0vu"
   },
   "outputs": [],
   "source": [
    "rash_latitude = []\n",
    "rash_longitude = []\n",
    "rash_time = []\n",
    "rash_pedal_position = []\n",
    "\n",
    "def rash_driving():\n",
    "  global data\n",
    "  global rash_latitude\n",
    "  global rash_longitude\n",
    "  global rash_time\n",
    "  global rash_pedal_position\n",
    "\n",
    "  time = data['Trip Time(Since journey start)(s)']\n",
    "  pedal_position = data['Accelerator PedalPosition D(%)']\n",
    "\n",
    "  plt.plot(time,pedal_position)\n",
    "  counter = 0\n",
    "  print('-------------------------- Rash Driving Detected at --------------------------\\n')\n",
    "  print(' DEVICE TIME \\t\\t LATITUDE \\t\\t LONGITUDE \\t\\t PEDAL POSITION \\n')\n",
    "  for n in range(data['Accelerator PedalPosition D(%)'].count()):\n",
    "    if data['Accelerator PedalPosition D(%)'][n]>58 and data['Acceleration Sensor(X axis)(g)'][n]>=0 and data['Engine RPM(rpm)'][n]>900:\n",
    "      counter += 1\n",
    "      rash_latitude.append(data[' Latitude'][n])\n",
    "      rash_longitude.append(data[' Longitude'][n])\n",
    "      rash_time.append(data['Trip Time(Since journey start)(s)'][n])\n",
    "      rash_pedal_position.append(data['Accelerator PedalPosition D(%)'][n])\n",
    "      print(f\"{data[' Device Time'][n]} \\t\\t {data[' Latitude'][n]} \\t {data[' Longitude'][n]} \\t {data['Accelerator PedalPosition D(%)'][n]}\")\n",
    "    \n",
    "  print(f'\\n--------------------- Rash Driving Detected {counter} times -------------------------------')\n",
    "  plt.scatter(rash_time,rash_pedal_position,label ='Rash Driving Points',color='red',marker='.')\n",
    "  plt.legend()\n",
    "  plt.xlabel('Trip Time(Since journey start)(s)')\n",
    "  plt.ylabel('Accelerator PedalPosition D(%)')\n",
    "  plt.show()\n",
    "\n",
    "  rash_driving_zoom_view()\n",
    "  "
   ]
  },
  {
   "cell_type": "markdown",
   "metadata": {
    "colab_type": "text",
    "id": "glLxHdVeo5jb"
   },
   "source": [
    "Zoom View to get a clear picture of Rash Driving points"
   ]
  },
  {
   "cell_type": "code",
   "execution_count": 8,
   "metadata": {
    "colab": {},
    "colab_type": "code",
    "executionInfo": {
     "elapsed": 3432,
     "status": "ok",
     "timestamp": 1596612229182,
     "user": {
      "displayName": "Hrishikesh Shinde",
      "photoUrl": "https://lh3.googleusercontent.com/a-/AOh14GgZWQPkf720YrSjwZ_b2xa54kIpbFYGj0dlrncl3w=s64",
      "userId": "14705072043501705532"
     },
     "user_tz": -330
    },
    "id": "r9lRy7ms3CBA"
   },
   "outputs": [],
   "source": [
    "def rash_driving_zoom_view():\n",
    "  global data\n",
    "  global rash_latitude\n",
    "  global rash_longitude\n",
    "  global rash_time\n",
    "  global rash_pedal_position\n",
    "\n",
    "  time = data['Trip Time(Since journey start)(s)'][1503:1928]\n",
    "  pedal_position = data['Accelerator PedalPosition D(%)'][1503:1928]\n",
    "  print('\\n\\nMore Clear View of Rash Driving Points')\n",
    "  plt.plot(time,pedal_position)\n",
    "  plt.scatter(rash_time,rash_pedal_position,label = 'Rash Driving Points',color='red',marker='.',linewidths=2)\n",
    "  label = \"_nolegend_\"  \n",
    "  plt.legend(loc = 'lower right',edgecolor= 'black')\n",
    "  plt.xlabel('Trip Time(In between Journey)(s)')\n",
    "  plt.ylabel('Accelerator PedalPosition D(%)')\n",
    "  plt.show()\n",
    "  print('\\n\\n')\n",
    "  show_map(rash_latitude,rash_longitude,4)"
   ]
  },
  {
   "cell_type": "markdown",
   "metadata": {
    "colab_type": "text",
    "id": "La1vnyOEpEtj"
   },
   "source": [
    "# 3. Pothole Detection"
   ]
  },
  {
   "cell_type": "markdown",
   "metadata": {
    "colab_type": "text",
    "id": "lu-UnCyGpbeY"
   },
   "source": [
    "Function To detect the number of potholes\n",
    "\n",
    "**Pothole Detection Conditions:**\n",
    "\n",
    "  1) Threshold for Acceleration Total (g) <-0.19\n"
   ]
  },
  {
   "cell_type": "code",
   "execution_count": 9,
   "metadata": {
    "colab": {},
    "colab_type": "code",
    "executionInfo": {
     "elapsed": 3426,
     "status": "ok",
     "timestamp": 1596612229185,
     "user": {
      "displayName": "Hrishikesh Shinde",
      "photoUrl": "https://lh3.googleusercontent.com/a-/AOh14GgZWQPkf720YrSjwZ_b2xa54kIpbFYGj0dlrncl3w=s64",
      "userId": "14705072043501705532"
     },
     "user_tz": -330
    },
    "id": "gJXlIElXnfQe"
   },
   "outputs": [],
   "source": [
    "pothole_latitude = []\n",
    "pothole_longitude = []\n",
    "pothole_time = []\n",
    "pothole_value = []\n",
    "\n",
    "def pothole_detection():\n",
    "  global data\n",
    "  global pothole_latitude\n",
    "  global pothole_longitude\n",
    "  global pothole_time\n",
    "  global pothole_value\n",
    "\n",
    "  time = data['Trip Time(Since journey start)(s)']\n",
    "  accleration = data['Acceleration Sensor(Total)(g)']\n",
    "\n",
    "  thresholdx = [[0],[data['Trip Time(Since journey start)(s)'][data['Trip Time(Since journey start)(s)'].count()-1]]]\n",
    "  thresholdy = [[-0.19],[-0.19]]\n",
    "\n",
    "  plt.plot(time,accleration)\n",
    "  plt.plot(thresholdx,thresholdy,linewidth = 0.5, color = 'red',label = 'Threshold')\n",
    "  plt.plot()\n",
    "  pothole_counter = 0\n",
    "  print('--------------------------------- Pothole Detected at --------------------------\\n')\n",
    "  print(' DEVICE TIME \\t\\t LATITUDE \\t\\t LONGITUDE \\t\\t ACCELEROMETER VALUE\\n')\n",
    "  for n in range(data['Trip Time(Since journey start)(s)'].count()):\n",
    "    if(data['Acceleration Sensor(Total)(g)'][n]<-.19):\n",
    "      pothole_counter +=1\n",
    "      pothole_latitude.append(data[' Latitude'][n])\n",
    "      pothole_longitude.append(data[' Longitude'][n])\n",
    "      pothole_time.append(data['Trip Time(Since journey start)(s)'][n])\n",
    "      pothole_value.append(data['Acceleration Sensor(Total)(g)'][n])\n",
    "      print(f\"{data[' Device Time'][n]} \\t\\t {data[' Latitude'][n]} \\t {data[' Longitude'][n]} \\t {data['Acceleration Sensor(Total)(g)'][n]}\")\n",
    "  print(f'\\n----------------------------- {pothole_counter} Pothole Detected  -------------------------------\\n')\n",
    "  plt.scatter(pothole_time,pothole_value,label ='Pothole Points',color='red',marker='.')\n",
    "  plt.legend()\n",
    "  plt.xlabel('Trip Time(Since journey start)(s)')\n",
    "  plt.ylabel('Acceleration Sensor(Total)(g)')\n",
    "  plt.show()\n",
    "  print('\\n\\nZoom View of points\\n')\n",
    "  pothole_detection_zoom_view()"
   ]
  },
  {
   "cell_type": "markdown",
   "metadata": {
    "colab_type": "text",
    "id": "K6k9ppN3qMv8"
   },
   "source": [
    "Zoom view of pothole points to get a better picture of it"
   ]
  },
  {
   "cell_type": "code",
   "execution_count": 10,
   "metadata": {
    "colab": {},
    "colab_type": "code",
    "executionInfo": {
     "elapsed": 3419,
     "status": "ok",
     "timestamp": 1596612229187,
     "user": {
      "displayName": "Hrishikesh Shinde",
      "photoUrl": "https://lh3.googleusercontent.com/a-/AOh14GgZWQPkf720YrSjwZ_b2xa54kIpbFYGj0dlrncl3w=s64",
      "userId": "14705072043501705532"
     },
     "user_tz": -330
    },
    "id": "bndtYAYxCyDM"
   },
   "outputs": [],
   "source": [
    "def pothole_detection_zoom_view():\n",
    "  global data\n",
    "  global pothole_latitude\n",
    "  global pothole_longitude\n",
    "  global pothole_time\n",
    "  global pothole_value\n",
    "  time = data['Trip Time(Since journey start)(s)'][1470:1528]\n",
    "  pedal_position = data['Acceleration Sensor(Total)(g)'][1470:1528]  \n",
    "\n",
    "  thresholdx = [[data['Trip Time(Since journey start)(s)'][1470]],[data['Trip Time(Since journey start)(s)'][1528]]]\n",
    "  thresholdy = [[-0.19],[-0.19]]\n",
    "\n",
    "  plt.plot(time,pedal_position)\n",
    "  plt.plot(thresholdx,thresholdy,linewidth = 0.5, color = 'red',label = 'Threshold')\n",
    "  plt.scatter(pothole_time,pothole_value,label ='Pothole Points',color='red',marker='.',linewidths=2)\n",
    "  label = \"_nolegend_\"  \n",
    "  plt.legend(loc ='center left')\n",
    "  plt.xlabel('Trip Time(In between Journey)(s)')\n",
    "  plt.ylabel('Accelerator PedalPosition D(%)')\n",
    "  plt.show() \n",
    "  print('\\n\\n')\n",
    "  show_map(pothole_latitude,pothole_longitude,1)"
   ]
  },
  {
   "cell_type": "markdown",
   "metadata": {
    "colab_type": "text",
    "id": "jQ_fKzKQqcuQ"
   },
   "source": [
    "# 4. High Fuel Consuption Detection (Put Next Gear or Go Slow)"
   ]
  },
  {
   "cell_type": "markdown",
   "metadata": {
    "colab_type": "text",
    "id": "lKgMp5n3qhAh"
   },
   "source": [
    "To check high consuption fuel points.\n",
    "\n",
    "When driver tries to run his vehicle on same gear without putting into next gear. High fuel consuption is detected. \n",
    "\n",
    "**Alerts Driver to Put next Gear or Go Slow**\n",
    "\n",
    "**Conditions To Detect:**\n",
    "\n",
    "1) Acceleration Pedal Positon > 55\n",
    "\n",
    "2) Fuel Consuption Rate > 0.029\n",
    "\n",
    "3) Throttel Position > 80\n"
   ]
  },
  {
   "cell_type": "code",
   "execution_count": 11,
   "metadata": {
    "colab": {},
    "colab_type": "code",
    "executionInfo": {
     "elapsed": 3409,
     "status": "ok",
     "timestamp": 1596612229189,
     "user": {
      "displayName": "Hrishikesh Shinde",
      "photoUrl": "https://lh3.googleusercontent.com/a-/AOh14GgZWQPkf720YrSjwZ_b2xa54kIpbFYGj0dlrncl3w=s64",
      "userId": "14705072043501705532"
     },
     "user_tz": -330
    },
    "id": "cwTpUdnv8Ock"
   },
   "outputs": [],
   "source": [
    "extra_fuel_consuption_latitude = []\n",
    "extra_fuel_consuption_longitude = []\n",
    "extra_fuel_consuption_time = []\n",
    "extra_fuel_consuption_value = []\n",
    "extra_fuel_paddle_position = []\n",
    "extra_fuel_throttle_position = []\n",
    "\n",
    "def next_gear():\n",
    "  global data\n",
    "  global extra_fuel_consuption_latitude\n",
    "  global extra_fuel_consuption_longitude\n",
    "  global extra_fuel_consuption_time\n",
    "  global extra_fuel_consuption_value\n",
    "  global extra_fuel_paddle_position\n",
    "  global extra_fuel_throttle_position\n",
    "\n",
    "  fig = plt.figure(figsize=plt.figaspect(0.25))\n",
    "  ax = fig.add_subplot(121, projection='3d')\n",
    "\n",
    "  high_fuel_consuption_counter =0\n",
    "  time =data['Trip Time(Since journey start)(s)']\n",
    "  pedal_position =data['Accelerator PedalPosition D(%)']\n",
    "  fuel =data['Fuel flow rate/minute(gal/min)']\n",
    "  throttel = data['Throttle Position(Manifold)(%)']\n",
    "\n",
    "  print('------------------------ INDICATION TO PUT NEXT GEAR or GO SLOW ----------------------\\n')\n",
    "  print('-------------------------- High Fuel Consuption Detected at --------------------------\\n')\n",
    "  print(' DEVICE TIME \\t\\t LATITUDE \\t\\t LONGITUDE \\t\\t HIGH FUEL CONSUPTION\\n')\n",
    "  for n in range(data['Trip Time(Since journey start)(s)'].count()):\n",
    "    if (data['Accelerator PedalPosition D(%)'][n] >55 and data['Fuel flow rate/minute(gal/min)'][n]>0.029 and data['Throttle Position(Manifold)(%)'][n]>80):\n",
    "      high_fuel_consuption_counter +=1\n",
    "      extra_fuel_consuption_latitude.append(data[' Latitude'][n])\n",
    "      extra_fuel_consuption_longitude.append(data[' Longitude'][n])\n",
    "      extra_fuel_consuption_time.append(data['Trip Time(Since journey start)(s)'][n])\n",
    "      extra_fuel_consuption_value.append(data['Fuel flow rate/minute(gal/min)'][n])\n",
    "      extra_fuel_paddle_position.append(data['Accelerator PedalPosition D(%)'][n])\n",
    "      extra_fuel_throttle_position.append(data['Throttle Position(Manifold)(%)'][n])\n",
    "      print(f\"{data[' Device Time'][n]} \\t {data[' Latitude'][n]} \\t {data[' Longitude'][n]} \\t {data['Fuel flow rate/minute(gal/min)'][n]}\")\n",
    "\n",
    "  print(f'\\n--------------------- High Fuel Consuption Detected {high_fuel_consuption_counter} times -------------------------------\\n')\n",
    "  ax.scatter(time, pedal_position, fuel, c='g', marker='o',s=0.3,label = 'Efficient Fuel Consumption')\n",
    "  ax.scatter(extra_fuel_consuption_time,extra_fuel_paddle_position,extra_fuel_consuption_value,c='r',marker='*',label = 'High Fuel Consumption at Low Speed\\n(Put Next GEAR Indication)')\n",
    "  ax.set_title('Fuel consumption w.r.t pedal position')\n",
    "  ax.legend(loc = 'center left')\n",
    "  ax.set_xlabel('Trip Time(s)')\n",
    "  ax.set_ylabel('PedalPosition D(%)')\n",
    "  ax.set_zlabel('Fuel flow (gal/min)')\n",
    "\n",
    "  \n",
    "  ax = fig.add_subplot(122, projection='3d')\n",
    "  ax.scatter(time, throttel, fuel, c='g', marker='o',s=0.3,label = 'Efficient Fuel Consumption')\n",
    "  ax.scatter(extra_fuel_consuption_time,extra_fuel_throttle_position,extra_fuel_consuption_value,c='r',marker='*',label = 'High Fuel Consumption at Low Speed\\n(Put Next GEAR Indication)')\n",
    "  ax.set_title('Fuel consumption w.r.t Throttel Position')\n",
    "  ax.legend(loc ='center left')\n",
    "  ax.set_xlabel('Trip Time(s)')\n",
    "  ax.set_ylabel('Throttle Position%)')\n",
    "  ax.set_zlabel('Fuel flow(gal/min)')\n",
    "\n",
    "  plt.show()\n",
    "  print('\\n\\n')\n",
    "  show_map(extra_fuel_consuption_latitude,extra_fuel_consuption_longitude,3)\n"
   ]
  },
  {
   "cell_type": "markdown",
   "metadata": {
    "colab_type": "text",
    "id": "CI99Rt85vfe0"
   },
   "source": [
    "# 5. Hard Braking Detection"
   ]
  },
  {
   "cell_type": "markdown",
   "metadata": {
    "colab_type": "text",
    "id": "U1aG2VtLO6Ps"
   },
   "source": [
    "Hard Breaking Points detected.\n",
    "\n",
    "When there is sudden drop in engine rpm and engine load hard braking is detected\n",
    "\n",
    "**Conditions to detect:**\n",
    "\n",
    "1) Difference between two consecutive Engine RPM should be more than -950\n",
    "\n",
    "2) Difference between two consecutive Engine Load should be more than -70"
   ]
  },
  {
   "cell_type": "code",
   "execution_count": 12,
   "metadata": {
    "colab": {},
    "colab_type": "code",
    "executionInfo": {
     "elapsed": 3402,
     "status": "ok",
     "timestamp": 1596612229193,
     "user": {
      "displayName": "Hrishikesh Shinde",
      "photoUrl": "https://lh3.googleusercontent.com/a-/AOh14GgZWQPkf720YrSjwZ_b2xa54kIpbFYGj0dlrncl3w=s64",
      "userId": "14705072043501705532"
     },
     "user_tz": -330
    },
    "id": "aJdaIwNEvn9V"
   },
   "outputs": [],
   "source": [
    "hard_breaking_latitude = []\n",
    "hard_breaking_longitude = []\n",
    "\n",
    "\n",
    "def hard_breaking():\n",
    "  global data\n",
    "  global hard_breaking_latitude \n",
    "  global hard_breaking_longitude\n",
    "  \n",
    "  time = data['Trip Time(Since journey start)(s)']\n",
    "  load = data['Engine Load(%)']\n",
    "  rpm = data['Engine RPM(rpm)']\n",
    "  hard_breaking_counter = 0\n",
    "  ax = plt.axes(projection='3d')\n",
    "  ax.scatter(time, load, rpm,s=1,label = 'Normal Breaking')\n",
    "  hard_breaking_label = 'Hard Breaking Points'\n",
    "  print('-------------------------- Hard Braking Detected at --------------------------\\n')\n",
    "  print('LATITUDE \\t\\t LONGITUDE \\t\\t ENGINE RPM DROPPED TO\\t\\t ENGINE LOAD DROPPED TO\\n')\n",
    "  for n in range(data['Trip Time(Since journey start)(s)'].count()-1):\n",
    "    if data['Engine RPM(rpm)'][n+1] - data['Engine RPM(rpm)'][n]<-950 and data['Engine Load(%)'][n+1] - data['Engine Load(%)'][n]>-70:\n",
    "      hard_breaking_counter +=1\n",
    "      hard_breaking_latitude.append(data[' Latitude'][n+1])\n",
    "      hard_breaking_longitude.append(data[' Longitude'][n+1])\n",
    "      ax.scatter(data['Trip Time(Since journey start)(s)'][n+1],data['Engine Load(%)'][n+1],data['Engine RPM(rpm)'][n+1],color = 'r',linewidth =1,marker = '*',label = hard_breaking_label)\n",
    "      hard_breaking_label = '__nolabel__'  \n",
    "      print(f\"{data[' Latitude'][n+1]} \\t {data[' Longitude'][n+1]} \\t {data['Engine RPM(rpm)'][n+1]} \\t\\t\\t {data['Engine Load(%)'][n+1]}\")\n",
    "  print(f'\\n--------------------- Hard Braking Detected {hard_breaking_counter} times -------------------------------\\n')\n",
    "  ax.legend(edgecolor= 'black')\n",
    "  ax.set_title('Hard Braking Graph')\n",
    "  ax.set_xlabel('Trip Time(s)')\n",
    "  ax.set_ylabel('Engine Load(%)')\n",
    "  ax.set_zlabel('Engine RPM(rpm)')\n",
    "  plt.show()\n",
    "  print('\\n\\n')\n",
    "  show_map(hard_breaking_latitude,hard_breaking_longitude,5)"
   ]
  },
  {
   "cell_type": "markdown",
   "metadata": {
    "colab_type": "text",
    "id": "eMuWTNG4UmuU"
   },
   "source": [
    "# User Choice\n"
   ]
  },
  {
   "cell_type": "markdown",
   "metadata": {
    "colab_type": "text",
    "id": "wHiDaasuQDaj"
   },
   "source": [
    "As per the user's choice the inference will be displayed\n"
   ]
  },
  {
   "cell_type": "code",
   "execution_count": 13,
   "metadata": {
    "colab": {},
    "colab_type": "code",
    "executionInfo": {
     "elapsed": 3395,
     "status": "ok",
     "timestamp": 1596612229196,
     "user": {
      "displayName": "Hrishikesh Shinde",
      "photoUrl": "https://lh3.googleusercontent.com/a-/AOh14GgZWQPkf720YrSjwZ_b2xa54kIpbFYGj0dlrncl3w=s64",
      "userId": "14705072043501705532"
     },
     "user_tz": -330
    },
    "id": "GY3wtqT9Upus"
   },
   "outputs": [],
   "source": [
    "def user_choice(choice):\n",
    "  if choice == 1:\n",
    "    next_gear()\n",
    "    print_last()\n",
    "    main()\n",
    "  elif choice == 2:\n",
    "    pothole_detection()\n",
    "    print_last()\n",
    "    main()\n",
    "  elif choice == 3:\n",
    "    hard_breaking()\n",
    "    print_last()\n",
    "    main()\n",
    "  elif choice == 4:\n",
    "    rash_driving()\n",
    "    print_last()\n",
    "    main()\n",
    "  elif choice == 5:\n",
    "    Engine_Overheat_Detection()\n",
    "    print_last()\n",
    "    main()\n",
    "  elif choice == 6:\n",
    "    map_display_all()\n",
    "    print_last()\n",
    "    main()\n",
    "  elif choice == 7:\n",
    "    sys.exit()"
   ]
  },
  {
   "cell_type": "code",
   "execution_count": 14,
   "metadata": {
    "colab": {},
    "colab_type": "code",
    "executionInfo": {
     "elapsed": 3388,
     "status": "ok",
     "timestamp": 1596612229199,
     "user": {
      "displayName": "Hrishikesh Shinde",
      "photoUrl": "https://lh3.googleusercontent.com/a-/AOh14GgZWQPkf720YrSjwZ_b2xa54kIpbFYGj0dlrncl3w=s64",
      "userId": "14705072043501705532"
     },
     "user_tz": -330
    },
    "id": "4H3L0yvFfLhT"
   },
   "outputs": [],
   "source": [
    "def print_last():    \n",
    "  print('--------------------------------------------------------------------------\\n')\n",
    "  print('Scroll Up above the Map to View OUTPUT DATA and GRAPHS\\n')\n",
    "  print('Click on the icons on maps to see information of icon')\n",
    "  print('--------------------------------------------------------------------------\\n')"
   ]
  },
  {
   "cell_type": "markdown",
   "metadata": {
    "colab_type": "text",
    "id": "N085cA41sSqr"
   },
   "source": [
    "# Program Starts Here (Main)\n",
    "\n"
   ]
  },
  {
   "cell_type": "code",
   "execution_count": null,
   "metadata": {
    "colab": {
     "base_uri": "https://localhost:8080/",
     "height": 1000
    },
    "colab_type": "code",
    "executionInfo": {
     "elapsed": 19329,
     "status": "error",
     "timestamp": 1596612245158,
     "user": {
      "displayName": "Hrishikesh Shinde",
      "photoUrl": "https://lh3.googleusercontent.com/a-/AOh14GgZWQPkf720YrSjwZ_b2xa54kIpbFYGj0dlrncl3w=s64",
      "userId": "14705072043501705532"
     },
     "user_tz": -330
    },
    "id": "ZBm5bFQ4RCKG",
    "outputId": "5a1b2228-3aa6-4719-e4de-ff77540582f6"
   },
   "outputs": [
    {
     "name": "stdout",
     "output_type": "stream",
     "text": [
      "~~~~~~~~~~~~~~~~~~~~~~~~~~~~~~ Inferences ~~~~~~~~~~~~~~~~~~~~~~~~~~~~~~~~\n",
      "\n",
      "Select Your Choice\n",
      "\n",
      "1. High Fuel Consuption Detection (Put next gear or Go Slow)\n",
      "\n",
      "2. Pothole Detection\n",
      "\n",
      "3. Hard Braking\n",
      "\n",
      "4. Rash Driving Detector\n",
      "\n",
      "5. Engine Overheat Detection\n",
      "\n",
      "6. Display All\n",
      "\n",
      "7. Exit\n",
      "\n",
      "~~~~~~~~~~~~~~~~~~~~~~~~~~~~~~~~~~~~~~~~~~~~~~~~~~~~~~~~~~~~~~~~~~~~~~~~~~\n",
      "Enter Number\n",
      "2\n",
      "--------------------------------- Pothole Detected at --------------------------\n",
      "\n",
      " DEVICE TIME \t\t LATITUDE \t\t LONGITUDE \t\t ACCELEROMETER VALUE\n",
      "\n",
      "00:58:35 \t\t 17.369277513333333 \t 78.51759436666666 \t -0.23311444\n",
      "00:58:39 \t\t 17.369317006666666 \t 78.51745743333333 \t -0.19981611\n",
      "\n",
      "----------------------------- 2 Pothole Detected  -------------------------------\n",
      "\n"
     ]
    },
    {
     "data": {
      "image/png": "[encoded data removed]",
      "text/plain": [
       "<Figure size 432x288 with 1 Axes>"
      ]
     },
     "metadata": {
      "needs_background": "light"
     },
     "output_type": "display_data"
    },
    {
     "name": "stdout",
     "output_type": "stream",
     "text": [
      "\n",
      "\n",
      "Zoom View of points\n",
      "\n"
     ]
    },
    {
     "data": {
      "image/png": "[encoded data removed]",
      "text/plain": [
       "<Figure size 432x288 with 1 Axes>"
      ]
     },
     "metadata": {
      "needs_background": "light"
     },
     "output_type": "display_data"
    },
    {
     "name": "stdout",
     "output_type": "stream",
     "text": [
      "\n",
      "\n",
      "\n"
     ]
    },
    {
     "data": {
      "text/html": [
       "<div style=\"width:100%;\"><div style=\"position:relative;width:100%;height:0;padding-bottom:60%;\"><span style=\"color:#565656\">Make this Notebook Trusted to load map: File -> Trust Notebook</span><iframe src=\"about:blank\" style=\"position:absolute;width:100%;height:100%;left:0;top:0;border:none !important;\" data-html=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 onload=\"this.contentDocument.open();this.contentDocument.write(atob(this.getAttribute('data-html')));this.contentDocument.close();\" allowfullscreen webkitallowfullscreen mozallowfullscreen></iframe></div></div>"
      ],
      "text/plain": [
       "<folium.folium.Map at 0x201a1212d30>"
      ]
     },
     "metadata": {},
     "output_type": "display_data"
    },
    {
     "name": "stdout",
     "output_type": "stream",
     "text": [
      "--------------------------------------------------------------------------\n",
      "\n",
      "Scroll Up above the Map to View OUTPUT DATA and GRAPHS\n",
      "\n",
      "Click on the icons on maps to see information of icon\n",
      "--------------------------------------------------------------------------\n",
      "\n",
      "~~~~~~~~~~~~~~~~~~~~~~~~~~~~~~ Inferences ~~~~~~~~~~~~~~~~~~~~~~~~~~~~~~~~\n",
      "\n",
      "Select Your Choice\n",
      "\n",
      "1. High Fuel Consuption Detection (Put next gear or Go Slow)\n",
      "\n",
      "2. Pothole Detection\n",
      "\n",
      "3. Hard Braking\n",
      "\n",
      "4. Rash Driving Detector\n",
      "\n",
      "5. Engine Overheat Detection\n",
      "\n",
      "6. Display All\n",
      "\n",
      "7. Exit\n",
      "\n",
      "~~~~~~~~~~~~~~~~~~~~~~~~~~~~~~~~~~~~~~~~~~~~~~~~~~~~~~~~~~~~~~~~~~~~~~~~~~\n",
      "Enter Number\n",
      "4\n",
      "-------------------------- Rash Driving Detected at --------------------------\n",
      "\n",
      " DEVICE TIME \t\t LATITUDE \t\t LONGITUDE \t\t PEDAL POSITION \n",
      "\n",
      "00:59:21 \t\t 17.36973168666667 \t 78.51601963333333 \t 58.4313736\n",
      "00:59:22 \t\t 17.36974156 \t 78.51598539999999 \t 58.4313736\n",
      "00:59:23 \t\t 17.369751433333334 \t 78.51595116666667 \t 58.4313736\n",
      "00:01:37 \t\t 17.37498105 \t 78.51472439999999 \t 58.8235321\n",
      "00:01:38 \t\t 17.374990566666664 \t 78.51472353333334 \t 58.8235321\n",
      "00:03:01 \t\t 17.37578045 \t 78.5146516 \t 59.2156868\n",
      "00:05:46 \t\t 17.38070682442748 \t 78.51746779389312 \t 60.7843132\n",
      "00:05:47 \t\t 17.38074924427481 \t 78.51749593893129 \t 60.7843132\n",
      "\n",
      "--------------------- Rash Driving Detected 8 times -------------------------------\n"
     ]
    },
    {
     "data": {
      "image/png": "[encoded data removed]",
      "text/plain": [
       "<Figure size 432x288 with 1 Axes>"
      ]
     },
     "metadata": {
      "needs_background": "light"
     },
     "output_type": "display_data"
    },
    {
     "name": "stdout",
     "output_type": "stream",
     "text": [
      "\n",
      "\n",
      "More Clear View of Rash Driving Points\n"
     ]
    },
    {
     "data": {
      "image/png": "[encoded data removed]",
      "text/plain": [
       "<Figure size 432x288 with 1 Axes>"
      ]
     },
     "metadata": {
      "needs_background": "light"
     },
     "output_type": "display_data"
    },
    {
     "name": "stdout",
     "output_type": "stream",
     "text": [
      "\n",
      "\n",
      "\n"
     ]
    },
    {
     "data": {
      "text/html": [
       "<div style=\"width:100%;\"><div style=\"position:relative;width:100%;height:0;padding-bottom:60%;\"><span style=\"color:#565656\">Make this Notebook Trusted to load map: File -> Trust Notebook</span><iframe src=\"about:blank\" style=\"position:absolute;width:100%;height:100%;left:0;top:0;border:none !important;\" data-html=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 onload=\"this.contentDocument.open();this.contentDocument.write(atob(this.getAttribute('data-html')));this.contentDocument.close();\" allowfullscreen webkitallowfullscreen mozallowfullscreen></iframe></div></div>"
      ],
      "text/plain": [
       "<folium.folium.Map at 0x201a1212d30>"
      ]
     },
     "metadata": {},
     "output_type": "display_data"
    },
    {
     "name": "stdout",
     "output_type": "stream",
     "text": [
      "--------------------------------------------------------------------------\n",
      "\n",
      "Scroll Up above the Map to View OUTPUT DATA and GRAPHS\n",
      "\n",
      "Click on the icons on maps to see information of icon\n",
      "--------------------------------------------------------------------------\n",
      "\n",
      "~~~~~~~~~~~~~~~~~~~~~~~~~~~~~~ Inferences ~~~~~~~~~~~~~~~~~~~~~~~~~~~~~~~~\n",
      "\n",
      "Select Your Choice\n",
      "\n",
      "1. High Fuel Consuption Detection (Put next gear or Go Slow)\n",
      "\n",
      "2. Pothole Detection\n",
      "\n",
      "3. Hard Braking\n",
      "\n",
      "4. Rash Driving Detector\n",
      "\n",
      "5. Engine Overheat Detection\n",
      "\n",
      "6. Display All\n",
      "\n",
      "7. Exit\n",
      "\n",
      "~~~~~~~~~~~~~~~~~~~~~~~~~~~~~~~~~~~~~~~~~~~~~~~~~~~~~~~~~~~~~~~~~~~~~~~~~~\n"
     ]
    }
   ],
   "source": [
    "def main():\n",
    "  print('~~~~~~~~~~~~~~~~~~~~~~~~~~~~~~ Inferences ~~~~~~~~~~~~~~~~~~~~~~~~~~~~~~~~')\n",
    "  print('\\nSelect Your Choice')\n",
    "  print('\\n1. High Fuel Consuption Detection (Put next gear or Go Slow)\\n\\n2. Pothole Detection\\n\\n3. Hard Braking\\n\\n4. Rash Driving Detector\\n\\n5. Engine Overheat Detection\\n\\n6. Display All\\n\\n7. Exit\\n')\n",
    "  print('~~~~~~~~~~~~~~~~~~~~~~~~~~~~~~~~~~~~~~~~~~~~~~~~~~~~~~~~~~~~~~~~~~~~~~~~~~')\n",
    "  while(1):\n",
    "    try:\n",
    "      choice = int(input('Enter Number\\n'))\n",
    "      if choice>=8 or choice<=0:\n",
    "        print('Enter Correct Choice\\n')\n",
    "        continue\n",
    "      else:\n",
    "        break\n",
    "    except:\n",
    "      print('Wrong Input\\n')\n",
    "  user_choice(choice)\n",
    "\n",
    "\n",
    "if __name__ == \"__main__\":\n",
    "  map1 = folium.Map(location=[17.34112692,78.53707726],tiles='cartodbpositron',zoom_start=12,width=750, height=600)\n",
    "  main()"
   ]
  },
  {
   "cell_type": "markdown",
   "metadata": {
    "colab": {},
    "colab_type": "code",
    "executionInfo": {
     "elapsed": 19285,
     "status": "aborted",
     "timestamp": 1596612245152,
     "user": {
      "displayName": "Hrishikesh Shinde",
      "photoUrl": "https://lh3.googleusercontent.com/a-/AOh14GgZWQPkf720YrSjwZ_b2xa54kIpbFYGj0dlrncl3w=s64",
      "userId": "14705072043501705532"
     },
     "user_tz": -330
    },
    "id": "iEBD6SnNIwox"
   },
   "source": [
    "## "
   ]
  }
 ],
 "metadata": {
  "colab": {
   "authorship_tag": "ABX9TyP3wYzVUnTVjBRdyabKoSB4",
   "collapsed_sections": [],
   "name": "Python Case Study.ipynb",
   "provenance": []
  },
  "kernelspec": {
   "display_name": "Python 3",
   "language": "python",
   "name": "python3"
  },
  "language_info": {
   "codemirror_mode": {
    "name": "ipython",
    "version": 3
   },
   "file_extension": ".py",
   "mimetype": "text/x-python",
   "name": "python",
   "nbconvert_exporter": "python",
   "pygments_lexer": "ipython3",
   "version": "3.6.5"
  }
 },
 "nbformat": 4,
 "nbformat_minor": 1
}
